{
  "nbformat": 4,
  "nbformat_minor": 0,
  "metadata": {
    "colab": {
      "name": "pre_diabetes.ipynb",
      "provenance": [],
      "collapsed_sections": [
        "Zv60ltWzFgxo"
      ],
      "authorship_tag": "ABX9TyO2YwDC9qCbsr4qYrPqxF8A",
      "include_colab_link": true
    },
    "kernelspec": {
      "name": "python3",
      "display_name": "Python 3"
    },
    "language_info": {
      "name": "python"
    }
  },
  "cells": [
    {
      "cell_type": "markdown",
      "metadata": {
        "id": "view-in-github",
        "colab_type": "text"
      },
      "source": [
        "<a href=\"https://colab.research.google.com/github/thihanaung-thnn/python_projects/blob/main/diabetes_prediction/pre_diabetes.ipynb\" target=\"_parent\"><img src=\"https://colab.research.google.com/assets/colab-badge.svg\" alt=\"Open In Colab\"/></a>"
      ]
    },
    {
      "cell_type": "code",
      "source": [
        "from google.colab import drive\n",
        "drive.mount('/content/drive')"
      ],
      "metadata": {
        "colab": {
          "base_uri": "https://localhost:8080/"
        },
        "id": "jHn4rPrW9MUv",
        "outputId": "4c27a8b1-425a-4f59-a93a-bbad39661b72"
      },
      "execution_count": null,
      "outputs": [
        {
          "output_type": "stream",
          "name": "stdout",
          "text": [
            "Drive already mounted at /content/drive; to attempt to forcibly remount, call drive.mount(\"/content/drive\", force_remount=True).\n"
          ]
        }
      ]
    },
    {
      "cell_type": "code",
      "source": [
        "!pip install imblearn"
      ],
      "metadata": {
        "id": "kZLJZXm-emts",
        "colab": {
          "base_uri": "https://localhost:8080/"
        },
        "outputId": "2807ea7a-55d2-4e7e-cda7-a8d63d948496"
      },
      "execution_count": null,
      "outputs": [
        {
          "output_type": "stream",
          "name": "stdout",
          "text": [
            "Requirement already satisfied: imblearn in /usr/local/lib/python3.7/dist-packages (0.0)\n",
            "Requirement already satisfied: imbalanced-learn in /usr/local/lib/python3.7/dist-packages (from imblearn) (0.8.1)\n",
            "Requirement already satisfied: scipy>=0.19.1 in /usr/local/lib/python3.7/dist-packages (from imbalanced-learn->imblearn) (1.4.1)\n",
            "Requirement already satisfied: numpy>=1.13.3 in /usr/local/lib/python3.7/dist-packages (from imbalanced-learn->imblearn) (1.19.5)\n",
            "Requirement already satisfied: scikit-learn>=0.24 in /usr/local/lib/python3.7/dist-packages (from imbalanced-learn->imblearn) (1.0.1)\n",
            "Requirement already satisfied: joblib>=0.11 in /usr/local/lib/python3.7/dist-packages (from imbalanced-learn->imblearn) (1.1.0)\n",
            "Requirement already satisfied: threadpoolctl>=2.0.0 in /usr/local/lib/python3.7/dist-packages (from scikit-learn>=0.24->imbalanced-learn->imblearn) (3.0.0)\n"
          ]
        }
      ]
    },
    {
      "cell_type": "code",
      "source": [
        "import pandas as pd\n",
        "import numpy as np\n",
        "import matplotlib.pyplot as plt\n",
        "import seaborn as sns\n",
        "from sklearn.model_selection import train_test_split, cross_val_predict\n",
        "from imblearn.over_sampling import SMOTENC \n",
        "from sklearn.linear_model import LogisticRegression\n",
        "from sklearn.ensemble import RandomForestClassifier\n",
        "from sklearn.ensemble import AdaBoostClassifier\n",
        "from sklearn.svm import SVC\n",
        "from sklearn.metrics import classification_report, accuracy_score, recall_score, precision_score, confusion_matrix, roc_curve, roc_auc_score\n",
        "from sklearn.model_selection import GridSearchCV\n",
        "import pickle\n",
        "import warnings\n",
        "warnings.filterwarnings('ignore')\n",
        "plt.style.use('fivethirtyeight')"
      ],
      "metadata": {
        "id": "0GTW78U59ccP"
      },
      "execution_count": null,
      "outputs": []
    },
    {
      "cell_type": "markdown",
      "source": [
        "# Importing and data preprocessing"
      ],
      "metadata": {
        "id": "Zv60ltWzFgxo"
      }
    },
    {
      "cell_type": "code",
      "source": [
        "data = pd.read_csv(\"/content/drive/MyDrive/Programming Projects/Python/diabetes/diabetes_dataset__2019.csv\")\n",
        "data"
      ],
      "metadata": {
        "colab": {
          "base_uri": "https://localhost:8080/",
          "height": 332
        },
        "id": "eN_1OxQw9crG",
        "outputId": "9a85c4c1-0e06-4f62-bf13-cbd3540aae83"
      },
      "execution_count": null,
      "outputs": [
        {
          "output_type": "execute_result",
          "data": {
            "text/html": [
              "\n",
              "  <div id=\"df-f1bf547e-c323-4abd-b5a5-0f64525acc43\">\n",
              "    <div class=\"colab-df-container\">\n",
              "      <div>\n",
              "<style scoped>\n",
              "    .dataframe tbody tr th:only-of-type {\n",
              "        vertical-align: middle;\n",
              "    }\n",
              "\n",
              "    .dataframe tbody tr th {\n",
              "        vertical-align: top;\n",
              "    }\n",
              "\n",
              "    .dataframe thead th {\n",
              "        text-align: right;\n",
              "    }\n",
              "</style>\n",
              "<table border=\"1\" class=\"dataframe\">\n",
              "  <thead>\n",
              "    <tr style=\"text-align: right;\">\n",
              "      <th></th>\n",
              "      <th>Age</th>\n",
              "      <th>Gender</th>\n",
              "      <th>Family_Diabetes</th>\n",
              "      <th>highBP</th>\n",
              "      <th>PhysicallyActive</th>\n",
              "      <th>BMI</th>\n",
              "      <th>Smoking</th>\n",
              "      <th>Alcohol</th>\n",
              "      <th>Sleep</th>\n",
              "      <th>SoundSleep</th>\n",
              "      <th>RegularMedicine</th>\n",
              "      <th>JunkFood</th>\n",
              "      <th>Stress</th>\n",
              "      <th>BPLevel</th>\n",
              "      <th>Pregancies</th>\n",
              "      <th>Pdiabetes</th>\n",
              "      <th>UriationFreq</th>\n",
              "      <th>Diabetic</th>\n",
              "    </tr>\n",
              "  </thead>\n",
              "  <tbody>\n",
              "    <tr>\n",
              "      <th>0</th>\n",
              "      <td>50-59</td>\n",
              "      <td>Male</td>\n",
              "      <td>no</td>\n",
              "      <td>yes</td>\n",
              "      <td>one hr or more</td>\n",
              "      <td>39.0</td>\n",
              "      <td>no</td>\n",
              "      <td>no</td>\n",
              "      <td>8</td>\n",
              "      <td>6</td>\n",
              "      <td>no</td>\n",
              "      <td>occasionally</td>\n",
              "      <td>sometimes</td>\n",
              "      <td>high</td>\n",
              "      <td>0.0</td>\n",
              "      <td>0</td>\n",
              "      <td>not much</td>\n",
              "      <td>no</td>\n",
              "    </tr>\n",
              "    <tr>\n",
              "      <th>1</th>\n",
              "      <td>50-59</td>\n",
              "      <td>Male</td>\n",
              "      <td>no</td>\n",
              "      <td>yes</td>\n",
              "      <td>less than half an hr</td>\n",
              "      <td>28.0</td>\n",
              "      <td>no</td>\n",
              "      <td>no</td>\n",
              "      <td>8</td>\n",
              "      <td>6</td>\n",
              "      <td>yes</td>\n",
              "      <td>very often</td>\n",
              "      <td>sometimes</td>\n",
              "      <td>normal</td>\n",
              "      <td>0.0</td>\n",
              "      <td>0</td>\n",
              "      <td>not much</td>\n",
              "      <td>no</td>\n",
              "    </tr>\n",
              "    <tr>\n",
              "      <th>2</th>\n",
              "      <td>40-49</td>\n",
              "      <td>Male</td>\n",
              "      <td>no</td>\n",
              "      <td>no</td>\n",
              "      <td>one hr or more</td>\n",
              "      <td>24.0</td>\n",
              "      <td>no</td>\n",
              "      <td>no</td>\n",
              "      <td>6</td>\n",
              "      <td>6</td>\n",
              "      <td>no</td>\n",
              "      <td>occasionally</td>\n",
              "      <td>sometimes</td>\n",
              "      <td>normal</td>\n",
              "      <td>0.0</td>\n",
              "      <td>0</td>\n",
              "      <td>not much</td>\n",
              "      <td>no</td>\n",
              "    </tr>\n",
              "    <tr>\n",
              "      <th>3</th>\n",
              "      <td>50-59</td>\n",
              "      <td>Male</td>\n",
              "      <td>no</td>\n",
              "      <td>no</td>\n",
              "      <td>one hr or more</td>\n",
              "      <td>23.0</td>\n",
              "      <td>no</td>\n",
              "      <td>no</td>\n",
              "      <td>8</td>\n",
              "      <td>6</td>\n",
              "      <td>no</td>\n",
              "      <td>occasionally</td>\n",
              "      <td>sometimes</td>\n",
              "      <td>normal</td>\n",
              "      <td>0.0</td>\n",
              "      <td>0</td>\n",
              "      <td>not much</td>\n",
              "      <td>no</td>\n",
              "    </tr>\n",
              "    <tr>\n",
              "      <th>4</th>\n",
              "      <td>40-49</td>\n",
              "      <td>Male</td>\n",
              "      <td>no</td>\n",
              "      <td>no</td>\n",
              "      <td>less than half an hr</td>\n",
              "      <td>27.0</td>\n",
              "      <td>no</td>\n",
              "      <td>no</td>\n",
              "      <td>8</td>\n",
              "      <td>8</td>\n",
              "      <td>no</td>\n",
              "      <td>occasionally</td>\n",
              "      <td>sometimes</td>\n",
              "      <td>normal</td>\n",
              "      <td>0.0</td>\n",
              "      <td>0</td>\n",
              "      <td>not much</td>\n",
              "      <td>no</td>\n",
              "    </tr>\n",
              "    <tr>\n",
              "      <th>...</th>\n",
              "      <td>...</td>\n",
              "      <td>...</td>\n",
              "      <td>...</td>\n",
              "      <td>...</td>\n",
              "      <td>...</td>\n",
              "      <td>...</td>\n",
              "      <td>...</td>\n",
              "      <td>...</td>\n",
              "      <td>...</td>\n",
              "      <td>...</td>\n",
              "      <td>...</td>\n",
              "      <td>...</td>\n",
              "      <td>...</td>\n",
              "      <td>...</td>\n",
              "      <td>...</td>\n",
              "      <td>...</td>\n",
              "      <td>...</td>\n",
              "      <td>...</td>\n",
              "    </tr>\n",
              "    <tr>\n",
              "      <th>947</th>\n",
              "      <td>less than 40</td>\n",
              "      <td>Male</td>\n",
              "      <td>yes</td>\n",
              "      <td>no</td>\n",
              "      <td>more than half an hr</td>\n",
              "      <td>25.0</td>\n",
              "      <td>no</td>\n",
              "      <td>no</td>\n",
              "      <td>8</td>\n",
              "      <td>6</td>\n",
              "      <td>no</td>\n",
              "      <td>often</td>\n",
              "      <td>sometimes</td>\n",
              "      <td>normal</td>\n",
              "      <td>0.0</td>\n",
              "      <td>0</td>\n",
              "      <td>not much</td>\n",
              "      <td>yes</td>\n",
              "    </tr>\n",
              "    <tr>\n",
              "      <th>948</th>\n",
              "      <td>60 or older</td>\n",
              "      <td>Male</td>\n",
              "      <td>yes</td>\n",
              "      <td>yes</td>\n",
              "      <td>more than half an hr</td>\n",
              "      <td>27.0</td>\n",
              "      <td>no</td>\n",
              "      <td>no</td>\n",
              "      <td>6</td>\n",
              "      <td>5</td>\n",
              "      <td>yes</td>\n",
              "      <td>occasionally</td>\n",
              "      <td>sometimes</td>\n",
              "      <td>high</td>\n",
              "      <td>0.0</td>\n",
              "      <td>0</td>\n",
              "      <td>quite often</td>\n",
              "      <td>yes</td>\n",
              "    </tr>\n",
              "    <tr>\n",
              "      <th>949</th>\n",
              "      <td>60 or older</td>\n",
              "      <td>Male</td>\n",
              "      <td>no</td>\n",
              "      <td>yes</td>\n",
              "      <td>none</td>\n",
              "      <td>23.0</td>\n",
              "      <td>no</td>\n",
              "      <td>no</td>\n",
              "      <td>6</td>\n",
              "      <td>5</td>\n",
              "      <td>yes</td>\n",
              "      <td>occasionally</td>\n",
              "      <td>sometimes</td>\n",
              "      <td>high</td>\n",
              "      <td>0.0</td>\n",
              "      <td>0</td>\n",
              "      <td>not much</td>\n",
              "      <td>no</td>\n",
              "    </tr>\n",
              "    <tr>\n",
              "      <th>950</th>\n",
              "      <td>60 or older</td>\n",
              "      <td>Male</td>\n",
              "      <td>no</td>\n",
              "      <td>yes</td>\n",
              "      <td>less than half an hr</td>\n",
              "      <td>27.0</td>\n",
              "      <td>no</td>\n",
              "      <td>yes</td>\n",
              "      <td>6</td>\n",
              "      <td>5</td>\n",
              "      <td>yes</td>\n",
              "      <td>occasionally</td>\n",
              "      <td>very often</td>\n",
              "      <td>high</td>\n",
              "      <td>0.0</td>\n",
              "      <td>0</td>\n",
              "      <td>not much</td>\n",
              "      <td>no</td>\n",
              "    </tr>\n",
              "    <tr>\n",
              "      <th>951</th>\n",
              "      <td>60 or older</td>\n",
              "      <td>Female</td>\n",
              "      <td>yes</td>\n",
              "      <td>yes</td>\n",
              "      <td>one hr or more</td>\n",
              "      <td>30.0</td>\n",
              "      <td>no</td>\n",
              "      <td>no</td>\n",
              "      <td>7</td>\n",
              "      <td>4</td>\n",
              "      <td>yes</td>\n",
              "      <td>occasionally</td>\n",
              "      <td>sometimes</td>\n",
              "      <td>high</td>\n",
              "      <td>2.0</td>\n",
              "      <td>0</td>\n",
              "      <td>quite often</td>\n",
              "      <td>yes</td>\n",
              "    </tr>\n",
              "  </tbody>\n",
              "</table>\n",
              "<p>952 rows × 18 columns</p>\n",
              "</div>\n",
              "      <button class=\"colab-df-convert\" onclick=\"convertToInteractive('df-f1bf547e-c323-4abd-b5a5-0f64525acc43')\"\n",
              "              title=\"Convert this dataframe to an interactive table.\"\n",
              "              style=\"display:none;\">\n",
              "        \n",
              "  <svg xmlns=\"http://www.w3.org/2000/svg\" height=\"24px\"viewBox=\"0 0 24 24\"\n",
              "       width=\"24px\">\n",
              "    <path d=\"M0 0h24v24H0V0z\" fill=\"none\"/>\n",
              "    <path d=\"M18.56 5.44l.94 2.06.94-2.06 2.06-.94-2.06-.94-.94-2.06-.94 2.06-2.06.94zm-11 1L8.5 8.5l.94-2.06 2.06-.94-2.06-.94L8.5 2.5l-.94 2.06-2.06.94zm10 10l.94 2.06.94-2.06 2.06-.94-2.06-.94-.94-2.06-.94 2.06-2.06.94z\"/><path d=\"M17.41 7.96l-1.37-1.37c-.4-.4-.92-.59-1.43-.59-.52 0-1.04.2-1.43.59L10.3 9.45l-7.72 7.72c-.78.78-.78 2.05 0 2.83L4 21.41c.39.39.9.59 1.41.59.51 0 1.02-.2 1.41-.59l7.78-7.78 2.81-2.81c.8-.78.8-2.07 0-2.86zM5.41 20L4 18.59l7.72-7.72 1.47 1.35L5.41 20z\"/>\n",
              "  </svg>\n",
              "      </button>\n",
              "      \n",
              "  <style>\n",
              "    .colab-df-container {\n",
              "      display:flex;\n",
              "      flex-wrap:wrap;\n",
              "      gap: 12px;\n",
              "    }\n",
              "\n",
              "    .colab-df-convert {\n",
              "      background-color: #E8F0FE;\n",
              "      border: none;\n",
              "      border-radius: 50%;\n",
              "      cursor: pointer;\n",
              "      display: none;\n",
              "      fill: #1967D2;\n",
              "      height: 32px;\n",
              "      padding: 0 0 0 0;\n",
              "      width: 32px;\n",
              "    }\n",
              "\n",
              "    .colab-df-convert:hover {\n",
              "      background-color: #E2EBFA;\n",
              "      box-shadow: 0px 1px 2px rgba(60, 64, 67, 0.3), 0px 1px 3px 1px rgba(60, 64, 67, 0.15);\n",
              "      fill: #174EA6;\n",
              "    }\n",
              "\n",
              "    [theme=dark] .colab-df-convert {\n",
              "      background-color: #3B4455;\n",
              "      fill: #D2E3FC;\n",
              "    }\n",
              "\n",
              "    [theme=dark] .colab-df-convert:hover {\n",
              "      background-color: #434B5C;\n",
              "      box-shadow: 0px 1px 3px 1px rgba(0, 0, 0, 0.15);\n",
              "      filter: drop-shadow(0px 1px 2px rgba(0, 0, 0, 0.3));\n",
              "      fill: #FFFFFF;\n",
              "    }\n",
              "  </style>\n",
              "\n",
              "      <script>\n",
              "        const buttonEl =\n",
              "          document.querySelector('#df-f1bf547e-c323-4abd-b5a5-0f64525acc43 button.colab-df-convert');\n",
              "        buttonEl.style.display =\n",
              "          google.colab.kernel.accessAllowed ? 'block' : 'none';\n",
              "\n",
              "        async function convertToInteractive(key) {\n",
              "          const element = document.querySelector('#df-f1bf547e-c323-4abd-b5a5-0f64525acc43');\n",
              "          const dataTable =\n",
              "            await google.colab.kernel.invokeFunction('convertToInteractive',\n",
              "                                                     [key], {});\n",
              "          if (!dataTable) return;\n",
              "\n",
              "          const docLinkHtml = 'Like what you see? Visit the ' +\n",
              "            '<a target=\"_blank\" href=https://colab.research.google.com/notebooks/data_table.ipynb>data table notebook</a>'\n",
              "            + ' to learn more about interactive tables.';\n",
              "          element.innerHTML = '';\n",
              "          dataTable['output_type'] = 'display_data';\n",
              "          await google.colab.output.renderOutput(dataTable, element);\n",
              "          const docLink = document.createElement('div');\n",
              "          docLink.innerHTML = docLinkHtml;\n",
              "          element.appendChild(docLink);\n",
              "        }\n",
              "      </script>\n",
              "    </div>\n",
              "  </div>\n",
              "  "
            ],
            "text/plain": [
              "              Age  Gender Family_Diabetes  ... Pdiabetes UriationFreq  Diabetic\n",
              "0           50-59    Male              no  ...         0     not much        no\n",
              "1           50-59    Male              no  ...         0     not much        no\n",
              "2           40-49    Male              no  ...         0     not much        no\n",
              "3           50-59    Male              no  ...         0     not much        no\n",
              "4           40-49    Male              no  ...         0     not much        no\n",
              "..            ...     ...             ...  ...       ...          ...       ...\n",
              "947  less than 40    Male             yes  ...         0     not much       yes\n",
              "948   60 or older    Male             yes  ...         0  quite often       yes\n",
              "949   60 or older    Male              no  ...         0     not much        no\n",
              "950   60 or older    Male              no  ...         0     not much        no\n",
              "951   60 or older  Female             yes  ...         0  quite often       yes\n",
              "\n",
              "[952 rows x 18 columns]"
            ]
          },
          "metadata": {},
          "execution_count": 104
        }
      ]
    },
    {
      "cell_type": "code",
      "source": [
        "data.info()"
      ],
      "metadata": {
        "colab": {
          "base_uri": "https://localhost:8080/"
        },
        "id": "loN4A_GwANII",
        "outputId": "0deaa94d-81ad-4e0a-e0a7-d9947feb07c1"
      },
      "execution_count": null,
      "outputs": [
        {
          "output_type": "stream",
          "name": "stdout",
          "text": [
            "<class 'pandas.core.frame.DataFrame'>\n",
            "RangeIndex: 952 entries, 0 to 951\n",
            "Data columns (total 18 columns):\n",
            " #   Column            Non-Null Count  Dtype  \n",
            "---  ------            --------------  -----  \n",
            " 0   Age               952 non-null    object \n",
            " 1   Gender            952 non-null    object \n",
            " 2   Family_Diabetes   952 non-null    object \n",
            " 3   highBP            952 non-null    object \n",
            " 4   PhysicallyActive  952 non-null    object \n",
            " 5   BMI               948 non-null    float64\n",
            " 6   Smoking           952 non-null    object \n",
            " 7   Alcohol           952 non-null    object \n",
            " 8   Sleep             952 non-null    int64  \n",
            " 9   SoundSleep        952 non-null    int64  \n",
            " 10  RegularMedicine   952 non-null    object \n",
            " 11  JunkFood          952 non-null    object \n",
            " 12  Stress            952 non-null    object \n",
            " 13  BPLevel           952 non-null    object \n",
            " 14  Pregancies        910 non-null    float64\n",
            " 15  Pdiabetes         951 non-null    object \n",
            " 16  UriationFreq      952 non-null    object \n",
            " 17  Diabetic          951 non-null    object \n",
            "dtypes: float64(2), int64(2), object(14)\n",
            "memory usage: 134.0+ KB\n"
          ]
        }
      ]
    },
    {
      "cell_type": "code",
      "source": [
        "for col in data.columns:\n",
        "    print(col)\n",
        "    print(data[col].value_counts())\n",
        "    print(f'-'*20)"
      ],
      "metadata": {
        "colab": {
          "base_uri": "https://localhost:8080/"
        },
        "id": "81mvmUhCApRW",
        "outputId": "659bf5e3-1dff-4345-f05b-72a16bfdb126"
      },
      "execution_count": null,
      "outputs": [
        {
          "output_type": "stream",
          "name": "stdout",
          "text": [
            "Age\n",
            "less than 40    488\n",
            "40-49           164\n",
            "50-59           156\n",
            "60 or older     144\n",
            "Name: Age, dtype: int64\n",
            "--------------------\n",
            "Gender\n",
            "Male      580\n",
            "Female    372\n",
            "Name: Gender, dtype: int64\n",
            "--------------------\n",
            "Family_Diabetes\n",
            "no     498\n",
            "yes    454\n",
            "Name: Family_Diabetes, dtype: int64\n",
            "--------------------\n",
            "highBP\n",
            "no     724\n",
            "yes    228\n",
            "Name: highBP, dtype: int64\n",
            "--------------------\n",
            "PhysicallyActive\n",
            "less than half an hr    336\n",
            "more than half an hr    272\n",
            "one hr or more          212\n",
            "none                    132\n",
            "Name: PhysicallyActive, dtype: int64\n",
            "--------------------\n",
            "BMI\n",
            "24.0    111\n",
            "21.0     88\n",
            "23.0     76\n",
            "28.0     71\n",
            "26.0     66\n",
            "33.0     64\n",
            "27.0     63\n",
            "22.0     58\n",
            "20.0     48\n",
            "19.0     36\n",
            "25.0     34\n",
            "30.0     33\n",
            "18.0     32\n",
            "29.0     28\n",
            "38.0     28\n",
            "36.0     20\n",
            "31.0     16\n",
            "17.0     16\n",
            "32.0     16\n",
            "34.0     12\n",
            "35.0     12\n",
            "15.0      8\n",
            "39.0      4\n",
            "40.0      4\n",
            "42.0      3\n",
            "45.0      1\n",
            "Name: BMI, dtype: int64\n",
            "--------------------\n",
            "Smoking\n",
            "no     844\n",
            "yes    108\n",
            "Name: Smoking, dtype: int64\n",
            "--------------------\n",
            "Alcohol\n",
            "no     760\n",
            "yes    192\n",
            "Name: Alcohol, dtype: int64\n",
            "--------------------\n",
            "Sleep\n",
            "7     264\n",
            "8     256\n",
            "6     256\n",
            "5      68\n",
            "9      48\n",
            "4      32\n",
            "10     24\n",
            "11      4\n",
            "Name: Sleep, dtype: int64\n",
            "--------------------\n",
            "SoundSleep\n",
            "6     228\n",
            "4     188\n",
            "5     156\n",
            "8     120\n",
            "7     104\n",
            "3      68\n",
            "2      44\n",
            "10     16\n",
            "9      16\n",
            "11      4\n",
            "1       4\n",
            "0       4\n",
            "Name: SoundSleep, dtype: int64\n",
            "--------------------\n",
            "RegularMedicine\n",
            "no     615\n",
            "yes    336\n",
            "o        1\n",
            "Name: RegularMedicine, dtype: int64\n",
            "--------------------\n",
            "JunkFood\n",
            "occasionally    672\n",
            "often           184\n",
            "very often       52\n",
            "always           44\n",
            "Name: JunkFood, dtype: int64\n",
            "--------------------\n",
            "Stress\n",
            "sometimes     564\n",
            "very often    164\n",
            "not at all    136\n",
            "always         88\n",
            "Name: Stress, dtype: int64\n",
            "--------------------\n",
            "BPLevel\n",
            "normal     707\n",
            "high       211\n",
            "low         25\n",
            "High         5\n",
            "Low          3\n",
            "normal       1\n",
            "Name: BPLevel, dtype: int64\n",
            "--------------------\n",
            "Pregancies\n",
            "0.0    754\n",
            "2.0     64\n",
            "3.0     60\n",
            "1.0     28\n",
            "4.0      4\n",
            "Name: Pregancies, dtype: int64\n",
            "--------------------\n",
            "Pdiabetes\n",
            "0      936\n",
            "yes     14\n",
            "no       1\n",
            "Name: Pdiabetes, dtype: int64\n",
            "--------------------\n",
            "UriationFreq\n",
            "not much       664\n",
            "quite often    288\n",
            "Name: UriationFreq, dtype: int64\n",
            "--------------------\n",
            "Diabetic\n",
            "no     684\n",
            "yes    266\n",
            " no      1\n",
            "Name: Diabetic, dtype: int64\n",
            "--------------------\n"
          ]
        }
      ]
    },
    {
      "cell_type": "code",
      "source": [
        "data['RegularMedicine'].replace('o','no', inplace=True)\n",
        "data['BPLevel'] = data['BPLevel'].str.lower().str.strip()\n",
        "data['Pdiabetes'].replace('0', 'no', inplace=True)\n",
        "data['Diabetic'] = data['Diabetic'].str.strip()"
      ],
      "metadata": {
        "id": "b9a2gMgLEa6Z"
      },
      "execution_count": null,
      "outputs": []
    },
    {
      "cell_type": "code",
      "source": [
        "# there is nan value at pregancies column where gender is male \n",
        "# if these values are replaced with 0, there's only 26 values, so all nan values will be replaced with 0. \n",
        "data[data['Gender']=='Male']['Pregancies'].isna().sum()"
      ],
      "metadata": {
        "colab": {
          "base_uri": "https://localhost:8080/"
        },
        "id": "koPb0zadM7Bv",
        "outputId": "55b09045-0ce1-4c6e-ca09-0f78355b99c4"
      },
      "execution_count": null,
      "outputs": [
        {
          "output_type": "execute_result",
          "data": {
            "text/plain": [
              "16"
            ]
          },
          "metadata": {},
          "execution_count": 9
        }
      ]
    },
    {
      "cell_type": "code",
      "source": [
        "data['Pregancies'].replace(np.nan, 0, inplace=True)\n",
        "# will drop all na's \n",
        "data.dropna(inplace=True)\n",
        "data.info()"
      ],
      "metadata": {
        "colab": {
          "base_uri": "https://localhost:8080/"
        },
        "id": "76RkxhC7M7KW",
        "outputId": "d0d1bfee-6511-4cc8-f5f9-75aff410879a"
      },
      "execution_count": null,
      "outputs": [
        {
          "output_type": "stream",
          "name": "stdout",
          "text": [
            "<class 'pandas.core.frame.DataFrame'>\n",
            "Int64Index: 947 entries, 0 to 951\n",
            "Data columns (total 18 columns):\n",
            " #   Column            Non-Null Count  Dtype  \n",
            "---  ------            --------------  -----  \n",
            " 0   Age               947 non-null    object \n",
            " 1   Gender            947 non-null    object \n",
            " 2   Family_Diabetes   947 non-null    object \n",
            " 3   highBP            947 non-null    object \n",
            " 4   PhysicallyActive  947 non-null    object \n",
            " 5   BMI               947 non-null    float64\n",
            " 6   Smoking           947 non-null    object \n",
            " 7   Alcohol           947 non-null    object \n",
            " 8   Sleep             947 non-null    int64  \n",
            " 9   SoundSleep        947 non-null    int64  \n",
            " 10  RegularMedicine   947 non-null    object \n",
            " 11  JunkFood          947 non-null    object \n",
            " 12  Stress            947 non-null    object \n",
            " 13  BPLevel           947 non-null    object \n",
            " 14  Pregancies        947 non-null    float64\n",
            " 15  Pdiabetes         947 non-null    object \n",
            " 16  UriationFreq      947 non-null    object \n",
            " 17  Diabetic          947 non-null    object \n",
            "dtypes: float64(2), int64(2), object(14)\n",
            "memory usage: 140.6+ KB\n"
          ]
        }
      ]
    },
    {
      "cell_type": "code",
      "source": [
        "num_cols = ['BMI', 'Sleep', 'SoundSleep', 'Pregancies']\n",
        "category_cols = list(set(data.columns).difference(set(num_cols)))\n",
        "\n",
        "data_clean = pd.DataFrame()\n",
        "for col in num_cols: \n",
        "    data_clean[col] = data[col].astype('int')\n",
        "\n",
        "for col in category_cols: \n",
        "    data_clean[col] = data[col].astype('category')\n",
        "\n",
        "# categorical variables in pandas is a little tricky. \n",
        "# I want to order the categorical variables according to the risks. \n",
        "data_clean['Age'] = pd.Categorical(data['Age'], ordered=True, \n",
        "                                   categories=['less than 40', '40-49', '50-59', '60 or older'])\n",
        "data_clean['PhysicallyActive'] = pd.Categorical(data['PhysicallyActive'], ordered=True, \n",
        "                                                categories=['one hr or more', 'more than half an hr', 'less than half an hr', 'none'])\n",
        "data_clean['JunkFood'] = pd.Categorical(data['JunkFood'], ordered=True, categories=['occasionally', 'often', 'very often', 'always'])\n",
        "data_clean['BPLevel'] = pd.Categorical(data['BPLevel'], ordered=True, \n",
        "                                       categories=['low', 'normal', 'high'])\n",
        "data_clean['Stress'] = pd.Categorical(data['Stress'], ordered=True, \n",
        "                                      categories=['not at all', 'sometimes', 'very often', 'always'])\n",
        "\n",
        "# sklearn cannot map according to this order and so do it manually. \n",
        "category_mapping = {\n",
        "    'Age':{'less than 40':0, '40-49':1, '50-59':2, '60 or older':3},\n",
        "    'Family_Diabetes':{'no':0, 'yes':1},\n",
        "    'Gender':{'Female':0, 'Male':1},\n",
        "    'Smoking':{'no':0, 'yes':1},\n",
        "    'Pdiabetes':{'no':0, 'yes':1},\n",
        "    'RegularMedicine':{'no':0, 'yes':1},\n",
        "    'PhysicallyActive':{'one hr or more':0, 'more than half an hr':1, 'less than half an hr':2, 'none':3},\n",
        "    'JunkFood':{'occasionally':0, 'often':1, 'very often':2, 'always':3},\n",
        "    'BPLevel':{'low':0, 'normal':1, 'high':2},\n",
        "    'highBP':{'no':0, 'yes':1},\n",
        "    'Alcohol':{'no':0, 'yes':1},\n",
        "    'UriationFreq':{'not much':0, 'quite often':1},\n",
        "    'Stress':{'not at all':0, 'sometimes':1, 'very often':2, 'always':3},\n",
        "    'Diabetic':{'no':0, 'yes':1},\n",
        "}\n",
        "\n",
        "for col in category_cols:\n",
        "    data_clean[col] = data_clean[col].map(category_mapping[col])"
      ],
      "metadata": {
        "id": "xUKkLct8PX0o"
      },
      "execution_count": null,
      "outputs": []
    },
    {
      "cell_type": "code",
      "source": [
        "data_clean.head()"
      ],
      "metadata": {
        "colab": {
          "base_uri": "https://localhost:8080/",
          "height": 250
        },
        "id": "as70U-O6cMKP",
        "outputId": "a7d527fc-547f-4665-a69e-df6e4fdf81ef"
      },
      "execution_count": null,
      "outputs": [
        {
          "output_type": "execute_result",
          "data": {
            "text/html": [
              "\n",
              "  <div id=\"df-8e6ca4f1-929b-4675-87a4-135fb22f3930\">\n",
              "    <div class=\"colab-df-container\">\n",
              "      <div>\n",
              "<style scoped>\n",
              "    .dataframe tbody tr th:only-of-type {\n",
              "        vertical-align: middle;\n",
              "    }\n",
              "\n",
              "    .dataframe tbody tr th {\n",
              "        vertical-align: top;\n",
              "    }\n",
              "\n",
              "    .dataframe thead th {\n",
              "        text-align: right;\n",
              "    }\n",
              "</style>\n",
              "<table border=\"1\" class=\"dataframe\">\n",
              "  <thead>\n",
              "    <tr style=\"text-align: right;\">\n",
              "      <th></th>\n",
              "      <th>BMI</th>\n",
              "      <th>Sleep</th>\n",
              "      <th>SoundSleep</th>\n",
              "      <th>Pregancies</th>\n",
              "      <th>Family_Diabetes</th>\n",
              "      <th>Smoking</th>\n",
              "      <th>Gender</th>\n",
              "      <th>BPLevel</th>\n",
              "      <th>Stress</th>\n",
              "      <th>PhysicallyActive</th>\n",
              "      <th>UriationFreq</th>\n",
              "      <th>Age</th>\n",
              "      <th>Alcohol</th>\n",
              "      <th>RegularMedicine</th>\n",
              "      <th>JunkFood</th>\n",
              "      <th>Pdiabetes</th>\n",
              "      <th>Diabetic</th>\n",
              "      <th>highBP</th>\n",
              "    </tr>\n",
              "  </thead>\n",
              "  <tbody>\n",
              "    <tr>\n",
              "      <th>0</th>\n",
              "      <td>39</td>\n",
              "      <td>8</td>\n",
              "      <td>6</td>\n",
              "      <td>0</td>\n",
              "      <td>0</td>\n",
              "      <td>0</td>\n",
              "      <td>1</td>\n",
              "      <td>2</td>\n",
              "      <td>1</td>\n",
              "      <td>0</td>\n",
              "      <td>0</td>\n",
              "      <td>2</td>\n",
              "      <td>0</td>\n",
              "      <td>0</td>\n",
              "      <td>0</td>\n",
              "      <td>0</td>\n",
              "      <td>0</td>\n",
              "      <td>1</td>\n",
              "    </tr>\n",
              "    <tr>\n",
              "      <th>1</th>\n",
              "      <td>28</td>\n",
              "      <td>8</td>\n",
              "      <td>6</td>\n",
              "      <td>0</td>\n",
              "      <td>0</td>\n",
              "      <td>0</td>\n",
              "      <td>1</td>\n",
              "      <td>1</td>\n",
              "      <td>1</td>\n",
              "      <td>2</td>\n",
              "      <td>0</td>\n",
              "      <td>2</td>\n",
              "      <td>0</td>\n",
              "      <td>1</td>\n",
              "      <td>2</td>\n",
              "      <td>0</td>\n",
              "      <td>0</td>\n",
              "      <td>1</td>\n",
              "    </tr>\n",
              "    <tr>\n",
              "      <th>2</th>\n",
              "      <td>24</td>\n",
              "      <td>6</td>\n",
              "      <td>6</td>\n",
              "      <td>0</td>\n",
              "      <td>0</td>\n",
              "      <td>0</td>\n",
              "      <td>1</td>\n",
              "      <td>1</td>\n",
              "      <td>1</td>\n",
              "      <td>0</td>\n",
              "      <td>0</td>\n",
              "      <td>1</td>\n",
              "      <td>0</td>\n",
              "      <td>0</td>\n",
              "      <td>0</td>\n",
              "      <td>0</td>\n",
              "      <td>0</td>\n",
              "      <td>0</td>\n",
              "    </tr>\n",
              "    <tr>\n",
              "      <th>3</th>\n",
              "      <td>23</td>\n",
              "      <td>8</td>\n",
              "      <td>6</td>\n",
              "      <td>0</td>\n",
              "      <td>0</td>\n",
              "      <td>0</td>\n",
              "      <td>1</td>\n",
              "      <td>1</td>\n",
              "      <td>1</td>\n",
              "      <td>0</td>\n",
              "      <td>0</td>\n",
              "      <td>2</td>\n",
              "      <td>0</td>\n",
              "      <td>0</td>\n",
              "      <td>0</td>\n",
              "      <td>0</td>\n",
              "      <td>0</td>\n",
              "      <td>0</td>\n",
              "    </tr>\n",
              "    <tr>\n",
              "      <th>4</th>\n",
              "      <td>27</td>\n",
              "      <td>8</td>\n",
              "      <td>8</td>\n",
              "      <td>0</td>\n",
              "      <td>0</td>\n",
              "      <td>0</td>\n",
              "      <td>1</td>\n",
              "      <td>1</td>\n",
              "      <td>1</td>\n",
              "      <td>2</td>\n",
              "      <td>0</td>\n",
              "      <td>1</td>\n",
              "      <td>0</td>\n",
              "      <td>0</td>\n",
              "      <td>0</td>\n",
              "      <td>0</td>\n",
              "      <td>0</td>\n",
              "      <td>0</td>\n",
              "    </tr>\n",
              "  </tbody>\n",
              "</table>\n",
              "</div>\n",
              "      <button class=\"colab-df-convert\" onclick=\"convertToInteractive('df-8e6ca4f1-929b-4675-87a4-135fb22f3930')\"\n",
              "              title=\"Convert this dataframe to an interactive table.\"\n",
              "              style=\"display:none;\">\n",
              "        \n",
              "  <svg xmlns=\"http://www.w3.org/2000/svg\" height=\"24px\"viewBox=\"0 0 24 24\"\n",
              "       width=\"24px\">\n",
              "    <path d=\"M0 0h24v24H0V0z\" fill=\"none\"/>\n",
              "    <path d=\"M18.56 5.44l.94 2.06.94-2.06 2.06-.94-2.06-.94-.94-2.06-.94 2.06-2.06.94zm-11 1L8.5 8.5l.94-2.06 2.06-.94-2.06-.94L8.5 2.5l-.94 2.06-2.06.94zm10 10l.94 2.06.94-2.06 2.06-.94-2.06-.94-.94-2.06-.94 2.06-2.06.94z\"/><path d=\"M17.41 7.96l-1.37-1.37c-.4-.4-.92-.59-1.43-.59-.52 0-1.04.2-1.43.59L10.3 9.45l-7.72 7.72c-.78.78-.78 2.05 0 2.83L4 21.41c.39.39.9.59 1.41.59.51 0 1.02-.2 1.41-.59l7.78-7.78 2.81-2.81c.8-.78.8-2.07 0-2.86zM5.41 20L4 18.59l7.72-7.72 1.47 1.35L5.41 20z\"/>\n",
              "  </svg>\n",
              "      </button>\n",
              "      \n",
              "  <style>\n",
              "    .colab-df-container {\n",
              "      display:flex;\n",
              "      flex-wrap:wrap;\n",
              "      gap: 12px;\n",
              "    }\n",
              "\n",
              "    .colab-df-convert {\n",
              "      background-color: #E8F0FE;\n",
              "      border: none;\n",
              "      border-radius: 50%;\n",
              "      cursor: pointer;\n",
              "      display: none;\n",
              "      fill: #1967D2;\n",
              "      height: 32px;\n",
              "      padding: 0 0 0 0;\n",
              "      width: 32px;\n",
              "    }\n",
              "\n",
              "    .colab-df-convert:hover {\n",
              "      background-color: #E2EBFA;\n",
              "      box-shadow: 0px 1px 2px rgba(60, 64, 67, 0.3), 0px 1px 3px 1px rgba(60, 64, 67, 0.15);\n",
              "      fill: #174EA6;\n",
              "    }\n",
              "\n",
              "    [theme=dark] .colab-df-convert {\n",
              "      background-color: #3B4455;\n",
              "      fill: #D2E3FC;\n",
              "    }\n",
              "\n",
              "    [theme=dark] .colab-df-convert:hover {\n",
              "      background-color: #434B5C;\n",
              "      box-shadow: 0px 1px 3px 1px rgba(0, 0, 0, 0.15);\n",
              "      filter: drop-shadow(0px 1px 2px rgba(0, 0, 0, 0.3));\n",
              "      fill: #FFFFFF;\n",
              "    }\n",
              "  </style>\n",
              "\n",
              "      <script>\n",
              "        const buttonEl =\n",
              "          document.querySelector('#df-8e6ca4f1-929b-4675-87a4-135fb22f3930 button.colab-df-convert');\n",
              "        buttonEl.style.display =\n",
              "          google.colab.kernel.accessAllowed ? 'block' : 'none';\n",
              "\n",
              "        async function convertToInteractive(key) {\n",
              "          const element = document.querySelector('#df-8e6ca4f1-929b-4675-87a4-135fb22f3930');\n",
              "          const dataTable =\n",
              "            await google.colab.kernel.invokeFunction('convertToInteractive',\n",
              "                                                     [key], {});\n",
              "          if (!dataTable) return;\n",
              "\n",
              "          const docLinkHtml = 'Like what you see? Visit the ' +\n",
              "            '<a target=\"_blank\" href=https://colab.research.google.com/notebooks/data_table.ipynb>data table notebook</a>'\n",
              "            + ' to learn more about interactive tables.';\n",
              "          element.innerHTML = '';\n",
              "          dataTable['output_type'] = 'display_data';\n",
              "          await google.colab.output.renderOutput(dataTable, element);\n",
              "          const docLink = document.createElement('div');\n",
              "          docLink.innerHTML = docLinkHtml;\n",
              "          element.appendChild(docLink);\n",
              "        }\n",
              "      </script>\n",
              "    </div>\n",
              "  </div>\n",
              "  "
            ],
            "text/plain": [
              "   BMI  Sleep  SoundSleep  Pregancies  ... JunkFood Pdiabetes Diabetic highBP\n",
              "0   39      8           6           0  ...        0         0        0      1\n",
              "1   28      8           6           0  ...        2         0        0      1\n",
              "2   24      6           6           0  ...        0         0        0      0\n",
              "3   23      8           6           0  ...        0         0        0      0\n",
              "4   27      8           8           0  ...        0         0        0      0\n",
              "\n",
              "[5 rows x 18 columns]"
            ]
          },
          "metadata": {},
          "execution_count": 12
        }
      ]
    },
    {
      "cell_type": "code",
      "source": [
        "data_clean['Diabetic'].value_counts()"
      ],
      "metadata": {
        "colab": {
          "base_uri": "https://localhost:8080/"
        },
        "id": "KESKNDX3Zsyf",
        "outputId": "53134528-5498-478e-84b7-4fcad6dab6dc"
      },
      "execution_count": null,
      "outputs": [
        {
          "output_type": "execute_result",
          "data": {
            "text/plain": [
              "0    682\n",
              "1    265\n",
              "Name: Diabetic, dtype: int64"
            ]
          },
          "metadata": {},
          "execution_count": 13
        }
      ]
    },
    {
      "cell_type": "code",
      "source": [
        "# split the dataset for preventing data leakage\n",
        "\n",
        "X = data_clean.drop('Diabetic', axis=1)\n",
        "y = data_clean['Diabetic']\n",
        "X_train, X_test, y_train, y_test = train_test_split(X, y, test_size=0.2, random_state=123, stratify=y)"
      ],
      "metadata": {
        "id": "y6pple5CeXwn"
      },
      "execution_count": null,
      "outputs": []
    },
    {
      "cell_type": "code",
      "source": [
        "print(y_train.value_counts())\n",
        "print(y_test.value_counts())"
      ],
      "metadata": {
        "colab": {
          "base_uri": "https://localhost:8080/"
        },
        "id": "Dzxe273UsrEZ",
        "outputId": "a7c6e41f-d89f-4c35-f5c9-fa551f717919"
      },
      "execution_count": null,
      "outputs": [
        {
          "output_type": "stream",
          "name": "stdout",
          "text": [
            "0    545\n",
            "1    212\n",
            "Name: Diabetic, dtype: int64\n",
            "0    137\n",
            "1     53\n",
            "Name: Diabetic, dtype: int64\n"
          ]
        }
      ]
    },
    {
      "cell_type": "code",
      "source": [
        "\n",
        "def smote_data(X, y):\n",
        "    smotenc = SMOTENC(random_state = 123, categorical_features = list(range(4, 17)), n_jobs=-1)\n",
        "    X_smote, y_smote = smotenc.fit_resample(X, y)\n",
        "    return X_smote, y_smote \n",
        "\n",
        "X_train_smote, y_train_smote = smote_data(X_train, y_train)\n",
        "X_test_smote, y_test_smote = smote_data(X_test, y_test)"
      ],
      "metadata": {
        "id": "o7_e8qfWsrM4"
      },
      "execution_count": null,
      "outputs": []
    },
    {
      "cell_type": "code",
      "source": [
        "print(y_train_smote.value_counts())\n",
        "print(y_test_smote.value_counts())"
      ],
      "metadata": {
        "colab": {
          "base_uri": "https://localhost:8080/"
        },
        "id": "AqATXP9cvVJw",
        "outputId": "e962045d-06ac-4eb1-83d7-2a232c573fe8"
      },
      "execution_count": null,
      "outputs": [
        {
          "output_type": "stream",
          "name": "stdout",
          "text": [
            "1    545\n",
            "0    545\n",
            "Name: Diabetic, dtype: int64\n",
            "1    137\n",
            "0    137\n",
            "Name: Diabetic, dtype: int64\n"
          ]
        }
      ]
    },
    {
      "cell_type": "markdown",
      "source": [
        "# Model training "
      ],
      "metadata": {
        "id": "F0ty8fyUyB32"
      }
    },
    {
      "cell_type": "code",
      "source": [
        "def grid_search(X_tr, X_te, y_tr, y_te, model, params, scoring='recall'):\n",
        "    gs = GridSearchCV(estimator = model, param_grid = params, scoring = scoring, n_jobs=-1, cv=3)\n",
        "    gs.fit(X_tr, y_tr)\n",
        "    y_pred = gs.predict(X_te)\n",
        "    print(f\"{model}\")\n",
        "    print(f\"Best parameter      : {gs.best_params_}\")\n",
        "    print(f\"Test Accuracy Score : {accuracy_score(y_te, y_pred)}\")\n",
        "    print(f\"Train Accuracy Score: {accuracy_score(y_tr, gs.predict(X_tr))}\")\n",
        "    print(f\"Recall score        : {recall_score(y_te, y_pred)}\")\n",
        "    print(f\"Classification Report \\n{'-'*30}\\n {classification_report(y_te, y_pred)}\")\n",
        "    return gs.best_params_\n"
      ],
      "metadata": {
        "id": "NydqLJBiSFZT"
      },
      "execution_count": null,
      "outputs": []
    },
    {
      "cell_type": "markdown",
      "source": [
        "## Logistic Regression"
      ],
      "metadata": {
        "id": "xpJ83pyn3Mvr"
      }
    },
    {
      "cell_type": "code",
      "source": [
        "params = {\n",
        "    'C' : [0.00001, 0.0001, 0.001, 0.01, 0.1, 1, 10],\n",
        "    'penalty' : ['l1', 'l2', 'elasticnet', 'none']\n",
        "}\n",
        "model = LogisticRegression(max_iter=500)\n",
        "lr_best = grid_search(X_train_smote, X_test, y_train_smote, y_test, model, params, scoring='accuracy')\n"
      ],
      "metadata": {
        "id": "dKV-0xbf9hvm",
        "colab": {
          "base_uri": "https://localhost:8080/"
        },
        "outputId": "aa99bc6d-2f1e-4800-c831-b0f9de9de0f1"
      },
      "execution_count": null,
      "outputs": [
        {
          "output_type": "stream",
          "name": "stdout",
          "text": [
            "LogisticRegression(max_iter=500)\n",
            "Best parameter      : {'C': 1e-05, 'penalty': 'none'}\n",
            "Test Accuracy Score : 0.8473684210526315\n",
            "Train Accuracy Score: 0.8834862385321101\n",
            "Recall score        : 0.8867924528301887\n",
            "Classification Report ---------\n",
            "               precision    recall  f1-score   support\n",
            "\n",
            "           0       0.95      0.83      0.89       137\n",
            "           1       0.67      0.89      0.76        53\n",
            "\n",
            "    accuracy                           0.85       190\n",
            "   macro avg       0.81      0.86      0.83       190\n",
            "weighted avg       0.87      0.85      0.85       190\n",
            "\n"
          ]
        }
      ]
    },
    {
      "cell_type": "markdown",
      "source": [
        "## AdaBoost Classifier"
      ],
      "metadata": {
        "id": "LyCiEn73-IjO"
      }
    },
    {
      "cell_type": "code",
      "source": [
        "ada = AdaBoostClassifier()\n",
        "params = {\n",
        "    'n_estimators' : [100,200, 300, 400],\n",
        "    'learning_rate' : [0.0001, 0.001,0.1,1,10]\n",
        "}\n",
        "ada_best = grid_search(X_train_smote, X_test, y_train_smote, y_test, ada, params, scoring='accuracy')"
      ],
      "metadata": {
        "colab": {
          "base_uri": "https://localhost:8080/"
        },
        "id": "661K6vMl9yYV",
        "outputId": "f65474d0-cc00-40d6-a31b-813875e5e485"
      },
      "execution_count": null,
      "outputs": [
        {
          "output_type": "stream",
          "name": "stdout",
          "text": [
            "AdaBoostClassifier()\n",
            "Best parameter      : {'learning_rate': 0.1, 'n_estimators': 300}\n",
            "Test Accuracy Score : 0.8473684210526315\n",
            "Train Accuracy Score: 0.8926605504587156\n",
            "Recall score        : 0.9056603773584906\n",
            "Classification Report ---------\n",
            "               precision    recall  f1-score   support\n",
            "\n",
            "           0       0.96      0.82      0.89       137\n",
            "           1       0.67      0.91      0.77        53\n",
            "\n",
            "    accuracy                           0.85       190\n",
            "   macro avg       0.81      0.87      0.83       190\n",
            "weighted avg       0.88      0.85      0.85       190\n",
            "\n"
          ]
        }
      ]
    },
    {
      "cell_type": "markdown",
      "source": [
        "## Random Forest Classifier"
      ],
      "metadata": {
        "id": "NTQ5nKXK3T7c"
      }
    },
    {
      "cell_type": "code",
      "source": [
        "params = {\n",
        "    'n_estimators':[100, 200, 300, 400, 500, 600],\n",
        "    'criterion' : ['gini', 'entropy'],\n",
        "    'max_depth' : [5, 10, 15, 20],\n",
        "}\n",
        "model = RandomForestClassifier(random_state=123)\n",
        "rf_best = grid_search(X_train_smote, X_test, y_train_smote, y_test, model, params, scoring='accuracy')"
      ],
      "metadata": {
        "colab": {
          "base_uri": "https://localhost:8080/"
        },
        "id": "Jii-UoIV9tqd",
        "outputId": "4b85e49d-e268-44b7-e780-9c436698d22f"
      },
      "execution_count": null,
      "outputs": [
        {
          "output_type": "stream",
          "name": "stdout",
          "text": [
            "RandomForestClassifier(random_state=123)\n",
            "Best parameter      : {'criterion': 'gini', 'max_depth': 20, 'n_estimators': 100}\n",
            "Test Accuracy Score : 0.968421052631579\n",
            "Train Accuracy Score: 0.9834862385321101\n",
            "Recall score        : 0.9056603773584906\n",
            "Classification Report ---------\n",
            "               precision    recall  f1-score   support\n",
            "\n",
            "           0       0.96      0.99      0.98       137\n",
            "           1       0.98      0.91      0.94        53\n",
            "\n",
            "    accuracy                           0.97       190\n",
            "   macro avg       0.97      0.95      0.96       190\n",
            "weighted avg       0.97      0.97      0.97       190\n",
            "\n"
          ]
        }
      ]
    },
    {
      "cell_type": "markdown",
      "source": [
        "## Support Vector Classifier"
      ],
      "metadata": {
        "id": "vpwEMUrBL87M"
      }
    },
    {
      "cell_type": "code",
      "source": [
        "model = SVC(random_state=123)\n",
        "params = {\n",
        "    'C' : [0.001, 0.01, 0.1, 1, 10],\n",
        "    'kernel' : ['linear', 'poly', 'rbf', 'sigmoid'],\n",
        "    'degree' : [2, 3, 4, 5]\n",
        "}\n",
        "svc_best = grid_search(X_train_smote, X_test, y_train_smote, y_test, model, params, scoring='accuracy')\n"
      ],
      "metadata": {
        "colab": {
          "base_uri": "https://localhost:8080/"
        },
        "id": "UMcySHu4KYvG",
        "outputId": "63f74732-99da-451e-b4d4-566ceb427718"
      },
      "execution_count": null,
      "outputs": [
        {
          "output_type": "stream",
          "name": "stdout",
          "text": [
            "SVC(random_state=123)\n",
            "Best parameter      : {'C': 10, 'degree': 4, 'kernel': 'poly'}\n",
            "Test Accuracy Score : 0.8526315789473684\n",
            "Train Accuracy Score: 0.9073394495412844\n",
            "Recall score        : 0.8867924528301887\n",
            "Classification Report ---------\n",
            "               precision    recall  f1-score   support\n",
            "\n",
            "           0       0.95      0.84      0.89       137\n",
            "           1       0.68      0.89      0.77        53\n",
            "\n",
            "    accuracy                           0.85       190\n",
            "   macro avg       0.82      0.86      0.83       190\n",
            "weighted avg       0.88      0.85      0.86       190\n",
            "\n"
          ]
        }
      ]
    },
    {
      "cell_type": "markdown",
      "source": [
        "# Model Comparing"
      ],
      "metadata": {
        "id": "jEznoSJp-6s-"
      }
    },
    {
      "cell_type": "code",
      "source": [
        "model_lr = LogisticRegression(C=lr_best['C'], penalty=lr_best['penalty'], random_state=123)\n",
        "y_scores_lr = cross_val_predict(model_lr, X_train_smote, y_train_smote, cv=5, method='predict_proba')\n",
        "\n",
        "model_ada = AdaBoostClassifier(n_estimators=ada_best['n_estimators'], learning_rate=ada_best['learning_rate'], random_state=123)\n",
        "y_scores_ada = cross_val_predict(model_ada, X_train_smote, y_train_smote, cv=5, method='predict_proba')\n",
        "\n",
        "model_rf = RandomForestClassifier(n_estimators=rf_best['n_estimators'], criterion=rf_best['criterion'], max_depth=rf_best['max_depth'], \n",
        "                                  random_state=123)\n",
        "y_scores_rf = cross_val_predict(model_rf, X_train_smote, y_train_smote, cv=5, method='predict_proba')\n",
        "\n",
        "\n",
        "model_svc = SVC(C=svc_best['C'], degree=svc_best['degree'], kernel=svc_best['kernel'], probability=True)\n",
        "y_scores_svc = cross_val_predict(model_svc, X_train_smote, y_train_smote, cv=5, method='predict_proba')\n",
        "\n",
        "y_scores = [y_scores_lr, y_scores_ada, y_scores_rf, y_scores_svc]\n",
        "model_names = ['Logistic Regression', 'AdaBoost Classification', 'Random Forest Classification', 'Support Vector Classifier'] "
      ],
      "metadata": {
        "id": "nmMNL8lN99cW"
      },
      "execution_count": null,
      "outputs": []
    },
    {
      "cell_type": "code",
      "source": [
        "plt.figure(figsize=(7,7))\n",
        "for score, name in zip(y_scores, model_names):\n",
        "    roc_score = roc_auc_score(y_train_smote, score[:, 1])\n",
        "    fpr, tpr, threshold = roc_curve(y_train_smote, score[:, 1])\n",
        "    plt.plot(fpr, tpr, label=f\"{name} : {round(roc_score, 3)}\")\n",
        "plt.legend()\n",
        "plt.plot([0,1],[0,1], '--', linewidth=2)\n",
        "plt.xlabel('False Positive Rate')\n",
        "plt.ylabel('True Positive Rate')\n",
        "plt.title('Comparing roc_auc in 4 models')"
      ],
      "metadata": {
        "colab": {
          "base_uri": "https://localhost:8080/",
          "height": 517
        },
        "id": "xJnvpoZt-9Tu",
        "outputId": "96c1b58a-e454-4529-a1ba-0cb01f010c36"
      },
      "execution_count": null,
      "outputs": [
        {
          "output_type": "execute_result",
          "data": {
            "text/plain": [
              "Text(0.5, 1.0, 'Comparing roc_auc in 4 models')"
            ]
          },
          "metadata": {},
          "execution_count": 83
        },
        {
          "output_type": "display_data",
          "data": {
            "image/png": "[encoded data removed]",
            "text/plain": [
              "<Figure size 504x504 with 1 Axes>"
            ]
          },
          "metadata": {}
        }
      ]
    },
    {
      "cell_type": "code",
      "source": [
        "rf = RandomForestClassifier(n_estimators=rf_best['n_estimators'], criterion=rf_best['criterion'], max_depth=rf_best['max_depth'], \n",
        "                                  random_state=123)\n",
        "rf.fit(X_train_smote, y_train_smote)"
      ],
      "metadata": {
        "colab": {
          "base_uri": "https://localhost:8080/"
        },
        "id": "a3f0fJJ7BKwb",
        "outputId": "6a14cbdd-97e1-4b4e-d7e7-de502300da40"
      },
      "execution_count": null,
      "outputs": [
        {
          "output_type": "execute_result",
          "data": {
            "text/plain": [
              "RandomForestClassifier(max_depth=20, random_state=123)"
            ]
          },
          "metadata": {},
          "execution_count": 47
        }
      ]
    },
    {
      "cell_type": "code",
      "source": [
        "pd.DataFrame(confusion_matrix(y_test, rf.predict(X_test)), index=['No DM(actual)', 'DM(actual)'], \n",
        "            columns=['No DM(predicted)', 'DM(predicted)'])"
      ],
      "metadata": {
        "colab": {
          "base_uri": "https://localhost:8080/",
          "height": 112
        },
        "id": "oO7hUYO4NQqN",
        "outputId": "71fc4412-d4b2-40c0-f28f-d23b88383cf1"
      },
      "execution_count": null,
      "outputs": [
        {
          "output_type": "execute_result",
          "data": {
            "text/html": [
              "\n",
              "  <div id=\"df-acf28974-e972-4cbe-803d-85fe4ab43109\">\n",
              "    <div class=\"colab-df-container\">\n",
              "      <div>\n",
              "<style scoped>\n",
              "    .dataframe tbody tr th:only-of-type {\n",
              "        vertical-align: middle;\n",
              "    }\n",
              "\n",
              "    .dataframe tbody tr th {\n",
              "        vertical-align: top;\n",
              "    }\n",
              "\n",
              "    .dataframe thead th {\n",
              "        text-align: right;\n",
              "    }\n",
              "</style>\n",
              "<table border=\"1\" class=\"dataframe\">\n",
              "  <thead>\n",
              "    <tr style=\"text-align: right;\">\n",
              "      <th></th>\n",
              "      <th>No DM(predicted)</th>\n",
              "      <th>DM(predicted)</th>\n",
              "    </tr>\n",
              "  </thead>\n",
              "  <tbody>\n",
              "    <tr>\n",
              "      <th>No DM(actual)</th>\n",
              "      <td>136</td>\n",
              "      <td>1</td>\n",
              "    </tr>\n",
              "    <tr>\n",
              "      <th>DM(actual)</th>\n",
              "      <td>5</td>\n",
              "      <td>48</td>\n",
              "    </tr>\n",
              "  </tbody>\n",
              "</table>\n",
              "</div>\n",
              "      <button class=\"colab-df-convert\" onclick=\"convertToInteractive('df-acf28974-e972-4cbe-803d-85fe4ab43109')\"\n",
              "              title=\"Convert this dataframe to an interactive table.\"\n",
              "              style=\"display:none;\">\n",
              "        \n",
              "  <svg xmlns=\"http://www.w3.org/2000/svg\" height=\"24px\"viewBox=\"0 0 24 24\"\n",
              "       width=\"24px\">\n",
              "    <path d=\"M0 0h24v24H0V0z\" fill=\"none\"/>\n",
              "    <path d=\"M18.56 5.44l.94 2.06.94-2.06 2.06-.94-2.06-.94-.94-2.06-.94 2.06-2.06.94zm-11 1L8.5 8.5l.94-2.06 2.06-.94-2.06-.94L8.5 2.5l-.94 2.06-2.06.94zm10 10l.94 2.06.94-2.06 2.06-.94-2.06-.94-.94-2.06-.94 2.06-2.06.94z\"/><path d=\"M17.41 7.96l-1.37-1.37c-.4-.4-.92-.59-1.43-.59-.52 0-1.04.2-1.43.59L10.3 9.45l-7.72 7.72c-.78.78-.78 2.05 0 2.83L4 21.41c.39.39.9.59 1.41.59.51 0 1.02-.2 1.41-.59l7.78-7.78 2.81-2.81c.8-.78.8-2.07 0-2.86zM5.41 20L4 18.59l7.72-7.72 1.47 1.35L5.41 20z\"/>\n",
              "  </svg>\n",
              "      </button>\n",
              "      \n",
              "  <style>\n",
              "    .colab-df-container {\n",
              "      display:flex;\n",
              "      flex-wrap:wrap;\n",
              "      gap: 12px;\n",
              "    }\n",
              "\n",
              "    .colab-df-convert {\n",
              "      background-color: #E8F0FE;\n",
              "      border: none;\n",
              "      border-radius: 50%;\n",
              "      cursor: pointer;\n",
              "      display: none;\n",
              "      fill: #1967D2;\n",
              "      height: 32px;\n",
              "      padding: 0 0 0 0;\n",
              "      width: 32px;\n",
              "    }\n",
              "\n",
              "    .colab-df-convert:hover {\n",
              "      background-color: #E2EBFA;\n",
              "      box-shadow: 0px 1px 2px rgba(60, 64, 67, 0.3), 0px 1px 3px 1px rgba(60, 64, 67, 0.15);\n",
              "      fill: #174EA6;\n",
              "    }\n",
              "\n",
              "    [theme=dark] .colab-df-convert {\n",
              "      background-color: #3B4455;\n",
              "      fill: #D2E3FC;\n",
              "    }\n",
              "\n",
              "    [theme=dark] .colab-df-convert:hover {\n",
              "      background-color: #434B5C;\n",
              "      box-shadow: 0px 1px 3px 1px rgba(0, 0, 0, 0.15);\n",
              "      filter: drop-shadow(0px 1px 2px rgba(0, 0, 0, 0.3));\n",
              "      fill: #FFFFFF;\n",
              "    }\n",
              "  </style>\n",
              "\n",
              "      <script>\n",
              "        const buttonEl =\n",
              "          document.querySelector('#df-acf28974-e972-4cbe-803d-85fe4ab43109 button.colab-df-convert');\n",
              "        buttonEl.style.display =\n",
              "          google.colab.kernel.accessAllowed ? 'block' : 'none';\n",
              "\n",
              "        async function convertToInteractive(key) {\n",
              "          const element = document.querySelector('#df-acf28974-e972-4cbe-803d-85fe4ab43109');\n",
              "          const dataTable =\n",
              "            await google.colab.kernel.invokeFunction('convertToInteractive',\n",
              "                                                     [key], {});\n",
              "          if (!dataTable) return;\n",
              "\n",
              "          const docLinkHtml = 'Like what you see? Visit the ' +\n",
              "            '<a target=\"_blank\" href=https://colab.research.google.com/notebooks/data_table.ipynb>data table notebook</a>'\n",
              "            + ' to learn more about interactive tables.';\n",
              "          element.innerHTML = '';\n",
              "          dataTable['output_type'] = 'display_data';\n",
              "          await google.colab.output.renderOutput(dataTable, element);\n",
              "          const docLink = document.createElement('div');\n",
              "          docLink.innerHTML = docLinkHtml;\n",
              "          element.appendChild(docLink);\n",
              "        }\n",
              "      </script>\n",
              "    </div>\n",
              "  </div>\n",
              "  "
            ],
            "text/plain": [
              "               No DM(predicted)  DM(predicted)\n",
              "No DM(actual)               136              1\n",
              "DM(actual)                    5             48"
            ]
          },
          "metadata": {},
          "execution_count": 99
        }
      ]
    },
    {
      "cell_type": "code",
      "source": [
        "features = pd.Series(rf.feature_importances_, index=X_train_smote.columns).sort_values(ascending=False)\n",
        "plt.figure(figsize=(6,8))\n",
        "g = sns.barplot(features, features.index)\n",
        "plt.title(\"Important features according to Random Forest\");"
      ],
      "metadata": {
        "colab": {
          "base_uri": "https://localhost:8080/",
          "height": 554
        },
        "id": "LH70C1mtEkUF",
        "outputId": "50fc7ed8-1060-44a8-eece-b901a106f0e2"
      },
      "execution_count": null,
      "outputs": [
        {
          "output_type": "execute_result",
          "data": {
            "text/plain": [
              "Text(0.5, 1.0, 'Important features according to Random Forest')"
            ]
          },
          "metadata": {},
          "execution_count": 73
        },
        {
          "output_type": "display_data",
          "data": {
            "image/png": "[encoded data removed]",
            "text/plain": [
              "<Figure size 432x576 with 1 Axes>"
            ]
          },
          "metadata": {}
        }
      ]
    },
    {
      "cell_type": "code",
      "source": [
        "#pickle.dump(rf, open('rf_model.sav', 'wb'))"
      ],
      "metadata": {
        "id": "JXkk2py6QyDd"
      },
      "execution_count": null,
      "outputs": []
    }
  ]
}